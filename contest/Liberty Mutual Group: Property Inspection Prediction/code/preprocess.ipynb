{
 "cells": [
  {
   "cell_type": "code",
   "execution_count": 1,
   "metadata": {
    "collapsed": false
   },
   "outputs": [
    {
     "name": "stdout",
     "output_type": "stream",
     "text": [
      "Populating the interactive namespace from numpy and matplotlib\n"
     ]
    }
   ],
   "source": [
    "%pylab inline\n",
    "import pandas as pd\n",
    "import numpy as np\n",
    "from sklearn import preprocessing\n",
    "from sklearn.decomposition import *\n",
    "from sklearn.preprocessing import OneHotEncoder\n",
    "from sklearn.cross_validation import train_test_split\n",
    "from sklearn.utils import shuffle\n",
    "import xgboost as xgb\n",
    "from sklearn.feature_extraction import DictVectorizer"
   ]
  },
  {
   "cell_type": "markdown",
   "metadata": {},
   "source": [
    "### LabelEncoder"
   ]
  },
  {
   "cell_type": "code",
   "execution_count": null,
   "metadata": {
    "collapsed": false
   },
   "outputs": [],
   "source": [
    "train = pd.read_csv('../data/train.csv', index_col=None)\n",
    "test = pd.read_csv('../data/test.csv', index_col=None)\n",
    "sample_submission = pd.read_csv('../data/sample_submission.csv')"
   ]
  },
  {
   "cell_type": "code",
   "execution_count": null,
   "metadata": {
    "collapsed": false
   },
   "outputs": [],
   "source": [
    "train_cols = train.columns\n",
    "test_cols = test.columns\n",
    "labels = train['Hazard'].ravel()\n",
    "train_ids = train['Id'].ravel()\n",
    "test_ids = test['Id'].ravel()"
   ]
  },
  {
   "cell_type": "code",
   "execution_count": null,
   "metadata": {
    "collapsed": false
   },
   "outputs": [],
   "source": [
    "train.drop('Id', axis=1, inplace=True)\n",
    "train.drop('Hazard', axis=1, inplace=True)\n",
    "test.drop('Id', axis=1, inplace=True)"
   ]
  },
  {
   "cell_type": "code",
   "execution_count": null,
   "metadata": {
    "collapsed": true
   },
   "outputs": [],
   "source": [
    "train = np.array(train)\n",
    "test = np.array(test)"
   ]
  },
  {
   "cell_type": "code",
   "execution_count": null,
   "metadata": {
    "collapsed": false
   },
   "outputs": [],
   "source": [
    "for i in range(train.shape[1]):\n",
    "    lbl = preprocessing.LabelEncoder()\n",
    "    lbl.fit(list(train[:, i]) + list(test[:, i]))\n",
    "    train[:, i] = lbl.transform(train[:, i])\n",
    "    test[:, i] = lbl.transform(test[:, i])"
   ]
  },
  {
   "cell_type": "code",
   "execution_count": null,
   "metadata": {
    "collapsed": false
   },
   "outputs": [],
   "source": [
    "train = np.column_stack((train_ids, labels, train))\n",
    "test = np.column_stack((test_ids, test))\n",
    "train = pd.DataFrame(train, columns=train_cols)\n",
    "test = pd.DataFrame(test, columns=test_cols)"
   ]
  },
  {
   "cell_type": "code",
   "execution_count": null,
   "metadata": {
    "collapsed": true
   },
   "outputs": [],
   "source": [
    "train['Id'] = train['Id'].astype(int)\n",
    "train['Hazard'] = train['Hazard'].astype(int)\n",
    "test['Id'] = test['Id'].astype(int)"
   ]
  },
  {
   "cell_type": "code",
   "execution_count": null,
   "metadata": {
    "collapsed": true
   },
   "outputs": [],
   "source": [
    "train.to_csv('../data/train2.csv', index=None)\n",
    "test.to_csv('../data/test2.csv', index=None)"
   ]
  },
  {
   "cell_type": "markdown",
   "metadata": {},
   "source": [
    "### DictVectorizer"
   ]
  },
  {
   "cell_type": "code",
   "execution_count": 8,
   "metadata": {
    "collapsed": false
   },
   "outputs": [],
   "source": [
    "train = pd.read_csv('../data/train.csv', index_col=None)\n",
    "test = pd.read_csv('../data/test.csv', index_col=None)"
   ]
  },
  {
   "cell_type": "code",
   "execution_count": 9,
   "metadata": {
    "collapsed": true
   },
   "outputs": [],
   "source": [
    "train_cols = train.columns\n",
    "test_cols = test.columns\n",
    "labels = np.array(train.Hazard).ravel().astype(int)\n",
    "train_ids = np.array(train.Id).ravel().astype(int)\n",
    "test_ids = np.array(test.Id).ravel().astype(int)"
   ]
  },
  {
   "cell_type": "code",
   "execution_count": 10,
   "metadata": {
    "collapsed": true
   },
   "outputs": [],
   "source": [
    "train.drop('Id', axis=1, inplace=True)\n",
    "train.drop('Hazard', axis=1, inplace=True)\n",
    "test.drop('Id', axis=1, inplace=True)"
   ]
  },
  {
   "cell_type": "code",
   "execution_count": 11,
   "metadata": {
    "collapsed": true
   },
   "outputs": [],
   "source": [
    "train = train.T.reset_index(drop=True).to_dict().values()\n",
    "test = test.T.reset_index(drop=True).to_dict().values()"
   ]
  },
  {
   "cell_type": "code",
   "execution_count": 12,
   "metadata": {
    "collapsed": false
   },
   "outputs": [
    {
     "name": "stderr",
     "output_type": "stream",
     "text": [
      "/usr/local/lib/python2.7/site-packages/sklearn/feature_extraction/dict_vectorizer.py:190: DeprecationWarning: unorderable dtypes; returning scalar but in the future this will be an error\n",
      "  feature_names.sort()\n",
      "/usr/local/lib/python2.7/site-packages/sklearn/feature_extraction/dict_vectorizer.py:190: DeprecationWarning: unorderable dtypes; returning scalar but in the future this will be an error\n",
      "  feature_names.sort()\n",
      "/usr/local/lib/python2.7/site-packages/sklearn/feature_extraction/dict_vectorizer.py:190: DeprecationWarning: unorderable dtypes; returning scalar but in the future this will be an error\n",
      "  feature_names.sort()\n",
      "/usr/local/lib/python2.7/site-packages/sklearn/feature_extraction/dict_vectorizer.py:190: DeprecationWarning: unorderable dtypes; returning scalar but in the future this will be an error\n",
      "  feature_names.sort()\n",
      "/usr/local/lib/python2.7/site-packages/sklearn/feature_extraction/dict_vectorizer.py:190: DeprecationWarning: unorderable dtypes; returning scalar but in the future this will be an error\n",
      "  feature_names.sort()\n",
      "/usr/local/lib/python2.7/site-packages/sklearn/feature_extraction/dict_vectorizer.py:190: DeprecationWarning: unorderable dtypes; returning scalar but in the future this will be an error\n",
      "  feature_names.sort()\n",
      "/usr/local/lib/python2.7/site-packages/sklearn/feature_extraction/dict_vectorizer.py:190: DeprecationWarning: unorderable dtypes; returning scalar but in the future this will be an error\n",
      "  feature_names.sort()\n",
      "/usr/local/lib/python2.7/site-packages/sklearn/feature_extraction/dict_vectorizer.py:190: DeprecationWarning: unorderable dtypes; returning scalar but in the future this will be an error\n",
      "  feature_names.sort()\n",
      "/usr/local/lib/python2.7/site-packages/sklearn/feature_extraction/dict_vectorizer.py:190: DeprecationWarning: unorderable dtypes; returning scalar but in the future this will be an error\n",
      "  feature_names.sort()\n",
      "/usr/local/lib/python2.7/site-packages/sklearn/feature_extraction/dict_vectorizer.py:190: DeprecationWarning: unorderable dtypes; returning scalar but in the future this will be an error\n",
      "  feature_names.sort()\n",
      "/usr/local/lib/python2.7/site-packages/sklearn/feature_extraction/dict_vectorizer.py:190: DeprecationWarning: unorderable dtypes; returning scalar but in the future this will be an error\n",
      "  feature_names.sort()\n",
      "/usr/local/lib/python2.7/site-packages/sklearn/feature_extraction/dict_vectorizer.py:190: DeprecationWarning: unorderable dtypes; returning scalar but in the future this will be an error\n",
      "  feature_names.sort()\n",
      "/usr/local/lib/python2.7/site-packages/sklearn/feature_extraction/dict_vectorizer.py:190: DeprecationWarning: unorderable dtypes; returning scalar but in the future this will be an error\n",
      "  feature_names.sort()\n",
      "/usr/local/lib/python2.7/site-packages/sklearn/feature_extraction/dict_vectorizer.py:190: DeprecationWarning: unorderable dtypes; returning scalar but in the future this will be an error\n",
      "  feature_names.sort()\n",
      "/usr/local/lib/python2.7/site-packages/sklearn/feature_extraction/dict_vectorizer.py:190: DeprecationWarning: unorderable dtypes; returning scalar but in the future this will be an error\n",
      "  feature_names.sort()\n",
      "/usr/local/lib/python2.7/site-packages/sklearn/feature_extraction/dict_vectorizer.py:190: DeprecationWarning: unorderable dtypes; returning scalar but in the future this will be an error\n",
      "  feature_names.sort()\n",
      "/usr/local/lib/python2.7/site-packages/sklearn/feature_extraction/dict_vectorizer.py:190: DeprecationWarning: unorderable dtypes; returning scalar but in the future this will be an error\n",
      "  feature_names.sort()\n",
      "/usr/local/lib/python2.7/site-packages/sklearn/feature_extraction/dict_vectorizer.py:190: DeprecationWarning: unorderable dtypes; returning scalar but in the future this will be an error\n",
      "  feature_names.sort()\n",
      "/usr/local/lib/python2.7/site-packages/sklearn/feature_extraction/dict_vectorizer.py:190: DeprecationWarning: unorderable dtypes; returning scalar but in the future this will be an error\n",
      "  feature_names.sort()\n",
      "/usr/local/lib/python2.7/site-packages/sklearn/feature_extraction/dict_vectorizer.py:190: DeprecationWarning: unorderable dtypes; returning scalar but in the future this will be an error\n",
      "  feature_names.sort()\n",
      "/usr/local/lib/python2.7/site-packages/sklearn/feature_extraction/dict_vectorizer.py:190: DeprecationWarning: unorderable dtypes; returning scalar but in the future this will be an error\n",
      "  feature_names.sort()\n",
      "/usr/local/lib/python2.7/site-packages/sklearn/feature_extraction/dict_vectorizer.py:190: DeprecationWarning: unorderable dtypes; returning scalar but in the future this will be an error\n",
      "  feature_names.sort()\n",
      "/usr/local/lib/python2.7/site-packages/sklearn/feature_extraction/dict_vectorizer.py:190: DeprecationWarning: unorderable dtypes; returning scalar but in the future this will be an error\n",
      "  feature_names.sort()\n",
      "/usr/local/lib/python2.7/site-packages/sklearn/feature_extraction/dict_vectorizer.py:190: DeprecationWarning: unorderable dtypes; returning scalar but in the future this will be an error\n",
      "  feature_names.sort()\n",
      "/usr/local/lib/python2.7/site-packages/sklearn/feature_extraction/dict_vectorizer.py:190: DeprecationWarning: unorderable dtypes; returning scalar but in the future this will be an error\n",
      "  feature_names.sort()\n",
      "/usr/local/lib/python2.7/site-packages/sklearn/feature_extraction/dict_vectorizer.py:190: DeprecationWarning: unorderable dtypes; returning scalar but in the future this will be an error\n",
      "  feature_names.sort()\n",
      "/usr/local/lib/python2.7/site-packages/sklearn/feature_extraction/dict_vectorizer.py:190: DeprecationWarning: unorderable dtypes; returning scalar but in the future this will be an error\n",
      "  feature_names.sort()\n",
      "/usr/local/lib/python2.7/site-packages/sklearn/feature_extraction/dict_vectorizer.py:190: DeprecationWarning: unorderable dtypes; returning scalar but in the future this will be an error\n",
      "  feature_names.sort()\n",
      "/usr/local/lib/python2.7/site-packages/sklearn/feature_extraction/dict_vectorizer.py:190: DeprecationWarning: unorderable dtypes; returning scalar but in the future this will be an error\n",
      "  feature_names.sort()\n",
      "/usr/local/lib/python2.7/site-packages/sklearn/feature_extraction/dict_vectorizer.py:190: DeprecationWarning: unorderable dtypes; returning scalar but in the future this will be an error\n",
      "  feature_names.sort()\n",
      "/usr/local/lib/python2.7/site-packages/sklearn/feature_extraction/dict_vectorizer.py:190: DeprecationWarning: unorderable dtypes; returning scalar but in the future this will be an error\n",
      "  feature_names.sort()\n",
      "/usr/local/lib/python2.7/site-packages/sklearn/feature_extraction/dict_vectorizer.py:190: DeprecationWarning: unorderable dtypes; returning scalar but in the future this will be an error\n",
      "  feature_names.sort()\n",
      "/usr/local/lib/python2.7/site-packages/sklearn/feature_extraction/dict_vectorizer.py:190: DeprecationWarning: unorderable dtypes; returning scalar but in the future this will be an error\n",
      "  feature_names.sort()\n",
      "/usr/local/lib/python2.7/site-packages/sklearn/feature_extraction/dict_vectorizer.py:190: DeprecationWarning: unorderable dtypes; returning scalar but in the future this will be an error\n",
      "  feature_names.sort()\n",
      "/usr/local/lib/python2.7/site-packages/sklearn/feature_extraction/dict_vectorizer.py:190: DeprecationWarning: unorderable dtypes; returning scalar but in the future this will be an error\n",
      "  feature_names.sort()\n",
      "/usr/local/lib/python2.7/site-packages/sklearn/feature_extraction/dict_vectorizer.py:190: DeprecationWarning: unorderable dtypes; returning scalar but in the future this will be an error\n",
      "  feature_names.sort()\n",
      "/usr/local/lib/python2.7/site-packages/sklearn/feature_extraction/dict_vectorizer.py:190: DeprecationWarning: unorderable dtypes; returning scalar but in the future this will be an error\n",
      "  feature_names.sort()\n",
      "/usr/local/lib/python2.7/site-packages/sklearn/feature_extraction/dict_vectorizer.py:190: DeprecationWarning: unorderable dtypes; returning scalar but in the future this will be an error\n",
      "  feature_names.sort()\n",
      "/usr/local/lib/python2.7/site-packages/sklearn/feature_extraction/dict_vectorizer.py:190: DeprecationWarning: unorderable dtypes; returning scalar but in the future this will be an error\n",
      "  feature_names.sort()\n",
      "/usr/local/lib/python2.7/site-packages/sklearn/feature_extraction/dict_vectorizer.py:190: DeprecationWarning: unorderable dtypes; returning scalar but in the future this will be an error\n",
      "  feature_names.sort()\n",
      "/usr/local/lib/python2.7/site-packages/sklearn/feature_extraction/dict_vectorizer.py:190: DeprecationWarning: unorderable dtypes; returning scalar but in the future this will be an error\n",
      "  feature_names.sort()\n",
      "/usr/local/lib/python2.7/site-packages/sklearn/feature_extraction/dict_vectorizer.py:190: DeprecationWarning: unorderable dtypes; returning scalar but in the future this will be an error\n",
      "  feature_names.sort()\n"
     ]
    }
   ],
   "source": [
    "vec = DictVectorizer(sparse=False)\n",
    "train = vec.fit_transform(train)\n",
    "test = vec.transform(test)"
   ]
  },
  {
   "cell_type": "code",
   "execution_count": 13,
   "metadata": {
    "collapsed": false
   },
   "outputs": [],
   "source": [
    "train = np.column_stack((train_ids, labels, train))\n",
    "test = np.column_stack((test_ids, test))\n",
    "train = pd.DataFrame(train, columns=['Id', 'Hazard'] + vec.get_feature_names())\n",
    "test = pd.DataFrame(test, columns=['Id'] + vec.get_feature_names())"
   ]
  },
  {
   "cell_type": "code",
   "execution_count": 15,
   "metadata": {
    "collapsed": false
   },
   "outputs": [],
   "source": [
    "train['Id'] = train['Id'].astype(int)\n",
    "train['Hazard'] = train['Hazard'].astype(int)\n",
    "test['Id'] = test['Id'].astype(int)\n",
    "\n",
    "train.to_csv('../data/train3.csv', index=None)\n",
    "test.to_csv('../data/test3.csv', index=None)"
   ]
  },
  {
   "cell_type": "markdown",
   "metadata": {},
   "source": [
    "### Factors to hazard mean"
   ]
  },
  {
   "cell_type": "code",
   "execution_count": 16,
   "metadata": {
    "collapsed": true
   },
   "outputs": [],
   "source": [
    "train = pd.read_csv('../data/train.csv', index_col=None)\n",
    "test = pd.read_csv('../data/test.csv', index_col=None)"
   ]
  },
  {
   "cell_type": "code",
   "execution_count": 17,
   "metadata": {
    "collapsed": true
   },
   "outputs": [],
   "source": [
    "train_cols = train.columns\n",
    "test_cols = test.columns\n",
    "labels = train.Hazard.astype(int)\n",
    "train_ids = train.Id.astype(int)\n",
    "test_ids = test.Id.astype(int)"
   ]
  },
  {
   "cell_type": "code",
   "execution_count": 18,
   "metadata": {
    "collapsed": true
   },
   "outputs": [],
   "source": [
    "train.drop('Id', axis=1, inplace=True)\n",
    "test.drop('Id', axis=1, inplace=True)"
   ]
  },
  {
   "cell_type": "code",
   "execution_count": 19,
   "metadata": {
    "collapsed": true
   },
   "outputs": [],
   "source": [
    "for feat in train.select_dtypes(include=['object']).columns:\n",
    "    m = train.groupby([feat])['Hazard'].mean()\n",
    "    train[feat].replace(m, inplace=True)\n",
    "    test[feat].replace(m, inplace=True)"
   ]
  },
  {
   "cell_type": "code",
   "execution_count": 20,
   "metadata": {
    "collapsed": true
   },
   "outputs": [],
   "source": [
    "train = pd.concat((train_ids, train), axis=1)\n",
    "test = pd.concat((test_ids, test), axis=1)\n",
    "train.to_csv('../data/train4.csv', index=None)\n",
    "test.to_csv('../data/test4.csv', index=None)"
   ]
  },
  {
   "cell_type": "code",
   "execution_count": null,
   "metadata": {
    "collapsed": true
   },
   "outputs": [],
   "source": []
  }
 ],
 "metadata": {
  "kernelspec": {
   "display_name": "Python 2",
   "language": "python",
   "name": "python2"
  },
  "language_info": {
   "codemirror_mode": {
    "name": "ipython",
    "version": 2
   },
   "file_extension": ".py",
   "mimetype": "text/x-python",
   "name": "python",
   "nbconvert_exporter": "python",
   "pygments_lexer": "ipython2",
   "version": "2.7.10"
  }
 },
 "nbformat": 4,
 "nbformat_minor": 0
}
